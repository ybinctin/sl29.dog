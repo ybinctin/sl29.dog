{
 "cells": [
  {
   "cell_type": "markdown",
   "metadata": {},
   "source": [
    "Connected to Python 3.12.4"
   ]
  },
  {
   "cell_type": "code",
   "execution_count": 1,
   "id": "1be95997-5887-4054-b0f2-dedc9ba4bfb4",
   "metadata": {},
   "outputs": [],
   "source": [
    "\"\"\"Module providing an implementation of a dog\"\"\"\n",
    "from typing import Optional\n",
    "import random\n",
    "\n",
    "# Définition de l'exception personnalisée MatingError\n",
    "class MatingError(Exception):\n",
    "    \"\"\"Exception levée lorsque deux chiens de même sexe tentent de s'accoupler.\"\"\"\n",
    "    pass\n",
    "\n",
    "\n",
    "class Dog:\n",
    "    \"\"\"\n",
    "    Une classe représentant un chien.\n",
    "\n",
    "    Attributes:\n",
    "        _race (str): La race du chien (protected).\n",
    "        _sex (str): Le sexe du chien (protected).\n",
    "        name (str): Le nom du chien (public).\n",
    "    \"\"\"\n",
    "\n",
    "    def __init__(self, race: str, sex: str, name: str = \"\") -> None:\n",
    "        \"\"\"\n",
    "        Initialise un chien avec une race, un sexe et un nom.\n",
    "\n",
    "        Args:\n",
    "            race (str): La race du chien.\n",
    "            sex (str): Le sexe du chien ('M' ou 'F').\n",
    "            name (str, optional): Le nom du chien. Par défaut, une chaîne vide.\n",
    "        \"\"\"\n",
    "        self._race = race  # Attribut protégé pour la race\n",
    "        self._sex = sex    # Attribut protégé pour le sexe\n",
    "        self.name = name   # Attribut public pour le nom\n",
    "\n",
    "    @property\n",
    "    def race(self) -> str:\n",
    "        \"\"\"\n",
    "        Retourne la race du chien.\n",
    "\n",
    "        Returns:\n",
    "            str: La race du chien.\n",
    "        \"\"\"\n",
    "        return self._race\n",
    "\n",
    "    @property\n",
    "    def sex(self) -> str:\n",
    "        \"\"\"\n",
    "        Retourne le sexe du chien\n",
    "\n",
    "        Returns:\n",
    "            str: Le sexe du chien.\n",
    "        \"\"\"\n",
    "        return self._sex\n",
    "        raise NotImplementedError\n",
    "\n",
    "    def __str__(self) -> str:\n",
    "        \"\"\"\n",
    "        Méthode d'affichage de la classe\n",
    "        \"\"\"\n",
    "        return f\"Chien: {self.name}, Race: {self._race}, Sexe: {self._sex}\"\n",
    "\n",
    "if __name__ == \"__main__\":\n",
    "    pass"
   ]
  },
  {
   "cell_type": "code",
   "execution_count": 2,
   "metadata": {},
   "outputs": [],
   "source": [
    "chien = Dog('Berger allemand', 'M', 'Rintintin')"
   ]
  }
 ],
 "metadata": {
  "kernelspec": {
   "display_name": "Python 3",
   "language": "python",
   "name": "python3"
  },
  "language_info": {
   "codemirror_mode": {
    "name": "ipython",
    "version": 3
   },
   "file_extension": ".py",
   "mimetype": "text/x-python",
   "name": "python",
   "nbconvert_exporter": "python",
   "pygments_lexer": "ipython3",
   "version": "3.12.4"
  }
 },
 "nbformat": 4,
 "nbformat_minor": 2
}
